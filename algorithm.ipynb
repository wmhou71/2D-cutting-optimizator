{
 "cells": [
  {
   "cell_type": "code",
   "execution_count": 1,
   "metadata": {},
   "outputs": [
    {
     "name": "stdout",
     "output_type": "stream",
     "text": [
      "raw_data:\n",
      " [['Case', '18', '16', nan, nan], [nan, nan, nan, nan, nan], ['name', 'p', 'q', 'a', 'n'], ['A', '6', '3', '18', '3'], ['B', '4', '4', '16', '4'], ['C', '3', '2', '6', '4'], ['D', '9', '9', '81', '2']] \n",
      "\n",
      "data:\n",
      " [['D', 9, 9, 81], ['D', 9, 9, 81], ['A', 6, 3, 18], ['A', 6, 3, 18], ['A', 6, 3, 18], ['B', 4, 4, 16], ['B', 4, 4, 16], ['B', 4, 4, 16], ['B', 4, 4, 16], ['C', 3, 2, 6], ['C', 3, 2, 6], ['C', 3, 2, 6], ['C', 3, 2, 6]]\n"
     ]
    }
   ],
   "source": [
    "import pandas as pd\n",
    "import random\n",
    "\n",
    "#---Import Data\n",
    "raw_data = pd.read_csv('data.csv', sep=\",\", header = 0)\n",
    "raw_data_list = raw_data.values.tolist()\n",
    "print(\"raw_data:\\n\", raw_data_list, \"\\n\")\n",
    "L, W = int(raw_data_list[0][1]), int(raw_data_list[0][2])\n",
    "\n",
    "for i in range(3):\n",
    "    del(raw_data_list[0])\n",
    "\n",
    "\n",
    "data=[]\n",
    "for i in range(len(raw_data_list)):\n",
    "    for j in range(int(raw_data_list[i][4])):\n",
    "        data_list = [raw_data_list[i][0], int(raw_data_list[i][1]), int(raw_data_list[i][2]), int(raw_data_list[i][3])]\n",
    "        data.append(data_list)\n",
    "#random.shuffle(data)\n",
    "data.sort(key=lambda x:(-x[1]))\n",
    "print(\"data:\\n\",data)\n",
    "#storage = [i, type, p, q, s, x', y']"
   ]
  },
  {
   "cell_type": "code",
   "execution_count": 2,
   "metadata": {},
   "outputs": [],
   "source": [
    "def checkOverlapping(i, x_index, y_index, s, storage, case):\n",
    "    #print(\"CheckOverlapping: (i,s)=\", i,s)\n",
    "    for k in range(len(storage)-1):\n",
    "        #print(\"storage k: \", storage[k])\n",
    "        condition1 = 'abs(x_index-storage[k][5])<((1-s)*storage[i][2]+s*storage[i][3]+(1-storage[k][4])*storage[k][2]+storage[k][4]*storage[k][3])/2'\n",
    "        condition2 = 'abs(y_index-storage[k][6])<(s*storage[i][2]+(1-s)*storage[i][3]+storage[k][4]*storage[k][2]+(1-storage[k][4])*storage[k][3])/2'\n",
    "        #print(\"i:\", x_index, y_index, \"k:\", storage[j][5], storage[j][6])\n",
    "        #print(\"condition:\", eval(condition1), eval(condition2))\n",
    "        if eval(condition1)==True and eval(condition2)==True:\n",
    "            #print(\"Overlap\")\n",
    "            return True\n",
    "            break\n",
    "    return False\n"
   ]
  },
  {
   "cell_type": "code",
   "execution_count": 3,
   "metadata": {},
   "outputs": [],
   "source": [
    "def arrangeStock(i, x_originalIndex, y_originalIndex, s, j, storage, L, W):\n",
    "    #storage = [i, type, p, q, s, x', y']\n",
    "    cases = [\"Case1\", \"Case2\", \"Case3\", \"Case4\"]\n",
    "    #print(\"Original: \", x_originalIndex, y_originalIndex,\"j=\", j)\n",
    "    for case in cases:\n",
    "        x_index, y_index = x_originalIndex, y_originalIndex\n",
    "        if case == \"Case1\":\n",
    "            x_index = storage[j][5] + ((1-s)*storage[i][2]+s*storage[i][3]+(1-storage[j][4])*storage[j][2]+storage[j][4]*storage[j][3])/2\n",
    "            y_index = storage[j][6] - (storage[j][4]*storage[j][2]+(1-storage[j][4])*storage[j][3])/2 + (s*storage[i][2]+(1-s)*storage[i][3])/2\n",
    "            \n",
    "        if case == \"Case2\":\n",
    "            x_index = storage[j][5] - ((1-s)*storage[i][2]+s*storage[i][3]+(1-storage[j][4])*storage[j][2]+storage[j][4]*storage[j][3])/2\n",
    "            y_index = storage[j][6] - (storage[j][4]*storage[j][2]+(1-storage[j][4])*storage[j][3])/2 - (s*storage[i][2]+(1-s)*storage[i][3])/2\n",
    "        \n",
    "        if case == \"Case3\":\n",
    "            y_index = storage[j][6] + (s*storage[i][2]+(1-s)*storage[i][3]+storage[j][4]*storage[j][2]+(1-storage[j][4])*storage[j][3])/2\n",
    "            x_index = storage[j][5] - ((1-storage[j][4])*storage[j][2]+storage[j][4]*storage[j][3])/2 + ((1-s)*storage[i][2]+s*storage[i][3])/2\n",
    "        \n",
    "        if case == \"Case4\":\n",
    "            y_index = storage[j][6] - (s*storage[i][2]+(1-s)*storage[i][3]+storage[j][4]*storage[j][2]+(1-storage[j][4])*storage[j][3])/2\n",
    "            x_index = storage[j][5] - ((1-storage[j][4])*storage[j][2]+storage[j][4]*storage[j][3])/2 - ((1-s)*storage[i][2]+s*storage[i][3])/2\n",
    "        \n",
    "        checkOL = checkOverlapping(i, x_index, y_index, s, storage, case)\n",
    "        checkOFB = checkOutofBound(i, x_index, y_index, s, storage, L, W)\n",
    "        #print(\"j= \", j, \"s= \", s, case, \"(\", x_index, \",\", y_index,\") check=\", checkOL, checkOFB)\n",
    "        if checkOL== False and checkOFB==False:\n",
    "            x_temp, y_temp = getXY(i, x_index, y_index, s, storage)\n",
    "            es = [s, x_index, y_index, x_temp, y_temp, (x_temp*y_temp)]\n",
    "            feasibleSolution.append(es)\n",
    "    #print(feasibleSolution)\n",
    "            \n",
    "    #print(case, x_index, y_index)\n",
    "    return feasibleSolution"
   ]
  },
  {
   "cell_type": "code",
   "execution_count": 4,
   "metadata": {},
   "outputs": [],
   "source": [
    "def checkOutofBound(i, x_index, y_index, s, storage, L, W):\n",
    "    #storage = [i, type, p, q, s, x', y']\n",
    "    if (x_index + ((1-s)*storage[i][2]+s*storage[i][3])/2) >L:\n",
    "        return True\n",
    "    if (x_index - ((1-s)*storage[i][2]+s*storage[i][3])/2) <0:\n",
    "        return True\n",
    "    if (y_index + (s*storage[i][2]+(1-s)*storage[i][3])/2) >W:\n",
    "        return True\n",
    "    if (y_index - (s*storage[i][2]+(1-s)*storage[i][3])/2) <0:\n",
    "        return True\n",
    "    else:\n",
    "        return False"
   ]
  },
  {
   "cell_type": "code",
   "execution_count": 5,
   "metadata": {},
   "outputs": [],
   "source": [
    "def getXY(i, x_index, y_index, s, storage):\n",
    "    storage[i][4], storage[i][5], storage[i][6] = s, x_index, y_index\n",
    "    x, y = [], []\n",
    "    for k in range(len(storage)):\n",
    "        x.append(storage[k][5])\n",
    "        y.append(storage[k][6])\n",
    "    xmax_index, ymax_index = x.index(max(x)), y.index(max(y))\n",
    "    x_temp = storage[xmax_index][5]+((1-storage[xmax_index][4])*storage[xmax_index][2]+storage[xmax_index][4]*storage[xmax_index][3])/2\n",
    "    y_temp = storage[ymax_index][6]+(storage[ymax_index][4]*storage[ymax_index][2]+(1-storage[ymax_index][4])*storage[ymax_index][3])/2\n",
    "    #print(\"(x, y)=\", x_temp, y_temp)\n",
    "    return x_temp, y_temp"
   ]
  },
  {
   "cell_type": "code",
   "execution_count": 6,
   "metadata": {},
   "outputs": [],
   "source": [
    "def getOptimalSolution(feasibleSolution):\n",
    "    a=[]\n",
    "    for k in range(len(feasibleSolution)):\n",
    "        a.append(feasibleSolution[k][5])\n",
    "    if a!=[]:\n",
    "        amin_index = a.index(min(a))\n",
    "        return feasibleSolution[amin_index][0], feasibleSolution[amin_index][1], feasibleSolution[amin_index][2]\n",
    "    else:\n",
    "        return -1, -1, -1\n",
    "    "
   ]
  },
  {
   "cell_type": "code",
   "execution_count": 7,
   "metadata": {},
   "outputs": [
    {
     "name": "stdout",
     "output_type": "stream",
     "text": [
      "i =  0 storage = [0, 'D', 9, 9, 0, 4.5, 4.5]\n",
      "i =  1 storage = [1, 'D', 9, 9, 0, 13.5, 4.5]\n",
      "i =  2 storage = [2, 'A', 6, 3, 0, 3.0, 10.5]\n",
      "i =  3 storage = [3, 'A', 6, 3, 0, 12.0, 10.5]\n",
      "i =  4 storage = [4, 'A', 6, 3, 0, 3.0, 13.5]\n",
      "i =  5 storage = [5, 'B', 4, 4, 0, 11.0, 14.0]\n",
      "i =  6 storage = [6, 'B', 4, 4, 0, 15.0, 14.0]\n",
      "i =  7 storage = [7, 'B', 4, 4, -1, -1, -1]\n",
      "i =  8 storage = [8, 'B', 4, 4, -1, -1, -1]\n",
      "i =  9 storage = [9, 'C', 3, 2, 0, 7.5, 10.0]\n",
      "i =  10 storage = [10, 'C', 3, 2, 0, 7.5, 13.0]\n",
      "i =  11 storage = [11, 'C', 3, 2, 0, 7.5, 15.0]\n",
      "i =  12 storage = [12, 'C', 3, 2, 1, 16.0, 10.5]\n"
     ]
    }
   ],
   "source": [
    "#-----Main-----\n",
    "\n",
    "case = [\"Case1\", \"Case2\", \"Case3\", \"Case4\"]\n",
    "storage, feasibleSolution = [], []\n",
    "\n",
    "for i in range(len(data)):\n",
    "    #storage = [i, type, p, q, s, x', y']\n",
    "    each = [i, data[i][0], data[i][1], data[i][2], -1, -1, -1]\n",
    "    storage.append(each)\n",
    "    feasibleSolutions=[]\n",
    "    feasibleSolution = []\n",
    "    for s in range(2):\n",
    "        x_index, y_index = ((1-s)*storage[i][2]+s*storage[i][3])/2, (s*storage[i][2]+(1-s)*storage[i][3])/2\n",
    "        #print(\"initial:\", i, s, x_index, y_index)\n",
    "        if i==0:\n",
    "            x_temp, y_temp = getXY(i, x_index, y_index, s, storage)\n",
    "            es = [s, x_index, y_index, x_temp, y_temp, (x_temp*y_temp)]\n",
    "            feasibleSolution.append(es)\n",
    "            #print(feasibleSolution)\n",
    "            break\n",
    "        for j in range(len(storage)-1):             \n",
    "            feasibleSolution = arrangeStock(i, x_index, y_index, s, j, storage, L, W)\n",
    "                \n",
    "    for solution in feasibleSolution:\n",
    "        feasibleSolutions.append(solution)\n",
    "    #print(\"feasibleSolutions\", feasibleSolutions)\n",
    "    storage[i][4], storage[i][5], storage[i][6] = getOptimalSolution(feasibleSolutions)\n",
    "    print(\"i = \", i, \"storage =\", storage[i])\n",
    "    \n",
    "#print(storage)\n",
    "            \n",
    "                    \n",
    "                    "
   ]
  },
  {
   "cell_type": "code",
   "execution_count": 8,
   "metadata": {},
   "outputs": [
    {
     "name": "stdout",
     "output_type": "stream",
     "text": [
      "      sx    sy type  p  q  s\n",
      "0    0.0   0.0    D  9  9  0\n",
      "1    9.0   0.0    D  9  9  0\n",
      "2    0.0   9.0    A  6  3  0\n",
      "3    9.0   9.0    A  6  3  0\n",
      "4    0.0  12.0    A  6  3  0\n",
      "5    9.0  12.0    B  4  4  0\n",
      "6   13.0  12.0    B  4  4  0\n",
      "7   13.0  12.0    B  4  4 -1\n",
      "8   13.0  12.0    B  4  4 -1\n",
      "9    6.0   9.0    C  3  2  0\n",
      "10   6.0  12.0    C  3  2  0\n",
      "11   6.0  14.0    C  3  2  0\n",
      "12  15.0   9.0    C  3  2  1\n"
     ]
    },
    {
     "data": {
      "text/plain": [
       "<Figure size 640x480 with 1 Axes>"
      ]
     },
     "metadata": {},
     "output_type": "display_data"
    }
   ],
   "source": [
    "import matplotlib.pyplot as plt\n",
    "\n",
    "fig = plt.figure()\n",
    "ax = fig.add_subplot(111)\n",
    "result=[]\n",
    "\n",
    "for i in range(len(storage)):\n",
    "    if storage[i][4]==0:\n",
    "        s_x, s_y = (storage[i][5]-storage[i][2]/2), (storage[i][6]-storage[i][3]/2)\n",
    "        rect = plt.Rectangle((s_x, s_y), storage[i][2], storage[i][3], fill=False, edgecolor = 'red')\n",
    "    if storage[i][4]==1:\n",
    "        s_x, s_y = (storage[i][5]-storage[i][3]/2), (storage[i][6]-storage[i][2]/2)\n",
    "        rect = plt.Rectangle((s_x, s_y), storage[i][3], storage[i][2], fill=False, edgecolor = 'red')\n",
    "    #print(s_x, s_y, storage[i][2], storage[i][3], storage[i][4])\n",
    "    print_line = [s_x, s_y, storage[i][1], storage[i][2], storage[i][3], storage[i][4]]\n",
    "    result.append(print_line)\n",
    "    ax.text(storage[i][5], storage[i][6],storage[i][1])\n",
    "    ax.add_patch(rect)\n",
    "\n",
    "print(pd.DataFrame(result, columns = ['sx' , 'sy', 'type', 'p', 'q', 's']))\n",
    "ax.add_patch(rect)\n",
    "ax.set_xlim((0, L))\n",
    "ax.set_ylim((0, W))\n",
    "plt.show()"
   ]
  },
  {
   "cell_type": "code",
   "execution_count": null,
   "metadata": {},
   "outputs": [],
   "source": []
  }
 ],
 "metadata": {
  "kernelspec": {
   "display_name": "Python 3",
   "language": "python",
   "name": "python3"
  },
  "language_info": {
   "codemirror_mode": {
    "name": "ipython",
    "version": 3
   },
   "file_extension": ".py",
   "mimetype": "text/x-python",
   "name": "python",
   "nbconvert_exporter": "python",
   "pygments_lexer": "ipython3",
   "version": "3.6.5"
  }
 },
 "nbformat": 4,
 "nbformat_minor": 2
}
